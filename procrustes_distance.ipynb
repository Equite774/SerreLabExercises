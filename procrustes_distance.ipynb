{
 "cells": [
  {
   "cell_type": "code",
   "execution_count": 1,
   "id": "a2700ecc",
   "metadata": {},
   "outputs": [],
   "source": [
    "import numpy as np\n",
    "import torch\n",
    "import sys\n",
    "sys.path.append(\"netrep\")\n",
    "from netrep.metrics import LinearMetric\n",
    "sys.path.append(\"..\")\n",
    "from Procrustes import ProcrustesDistance"
   ]
  },
  {
   "cell_type": "code",
   "execution_count": 2,
   "id": "4d96fc54",
   "metadata": {},
   "outputs": [],
   "source": [
    "random_state = torch.manual_seed(17)\n",
    "X = torch.randn(256, 32, requires_grad=True)\n",
    "\n",
    "A = torch.randn(32, 32, requires_grad=True)\n",
    "# Full rank\n",
    "while torch.linalg.matrix_rank(A) < 32:\n",
    "    A = torch.randn(32, 32, requires_grad=True)\n",
    "# QR decomp\n",
    "Q, R = torch.linalg.qr(A)\n",
    "# Ensure positive det\n",
    "signs = torch.sign(torch.diag(R))\n",
    "signs[signs == 0] = 1\n",
    "Q = Q @ torch.diag(signs)\n",
    "if torch.det(Q) < 0:\n",
    "    Q[:, 0] = -Q[:, 0]\n",
    "# Apply transformation with noise\n",
    "Y = X @ Q + torch.randn(256, 32) * 0.1"
   ]
  },
  {
   "cell_type": "code",
   "execution_count": 3,
   "id": "35933d59",
   "metadata": {},
   "outputs": [
    {
     "name": "stdout",
     "output_type": "stream",
     "text": [
      "Procrustes distance: 8.728781203289941\n"
     ]
    }
   ],
   "source": [
    "proc_metric = LinearMetric(alpha=1.0, center_columns=True, score_method='euclidean')\n",
    "proc_metric.fit(X.detach().numpy(), Y.detach().numpy())\n",
    "dist = proc_metric.score(X.detach().numpy(), Y.detach().numpy())\n",
    "print(\"Procrustes distance:\", dist)"
   ]
  },
  {
   "cell_type": "code",
   "execution_count": 4,
   "id": "02cddc66",
   "metadata": {},
   "outputs": [
    {
     "name": "stdout",
     "output_type": "stream",
     "text": [
      "Procrustes distance: 8.728781170289293\n"
     ]
    }
   ],
   "source": [
    "diff_metric = ProcrustesDistance()\n",
    "loss = diff_metric(X, Y)\n",
    "print(\"Procrustes distance:\", loss.item())"
   ]
  },
  {
   "cell_type": "code",
   "execution_count": 5,
   "id": "eb84aafd",
   "metadata": {},
   "outputs": [
    {
     "name": "stdout",
     "output_type": "stream",
     "text": [
      "tensor([[-1.5946e-04,  6.0550e-05, -1.6906e-04,  ...,  2.0220e-04,\n",
      "         -2.9361e-04,  1.9688e-04],\n",
      "        [-1.8422e-06,  1.8042e-04,  1.0639e-04,  ...,  1.7494e-04,\n",
      "         -4.0179e-04, -1.6341e-06],\n",
      "        [ 3.0343e-04,  6.1424e-05,  3.5554e-04,  ...,  2.9094e-04,\n",
      "         -1.6500e-04,  2.7779e-04],\n",
      "        ...,\n",
      "        [-2.6535e-04,  1.1842e-05,  1.9980e-04,  ...,  4.6371e-04,\n",
      "         -1.1459e-04, -5.0998e-05],\n",
      "        [-1.2970e-05,  4.3654e-04,  1.9298e-04,  ..., -2.8490e-04,\n",
      "          4.1537e-04,  4.7382e-04],\n",
      "        [-5.6980e-04, -1.1011e-04,  1.4352e-04,  ...,  1.3642e-05,\n",
      "         -5.2949e-05, -3.5602e-04]]) None\n"
     ]
    },
    {
     "name": "stderr",
     "output_type": "stream",
     "text": [
      "/var/folders/8v/z7_lynrn24bbpwy6p36j3cwc0000gn/T/ipykernel_58107/2679001290.py:2: UserWarning: The .grad attribute of a Tensor that is not a leaf Tensor is being accessed. Its .grad attribute won't be populated during autograd.backward(). If you indeed want the .grad field to be populated for a non-leaf Tensor, use .retain_grad() on the non-leaf Tensor. If you access the non-leaf Tensor by mistake, make sure you access the leaf Tensor instead. See github.com/pytorch/pytorch/pull/30531 for more informations. (Triggered internally at /Users/runner/work/pytorch/pytorch/pytorch/build/aten/src/ATen/core/TensorBody.h:494.)\n",
      "  print(X.grad, Y.grad)\n"
     ]
    }
   ],
   "source": [
    "loss.backward(retain_graph=True)\n",
    "print(X.grad, Y.grad)"
   ]
  }
 ],
 "metadata": {
  "kernelspec": {
   "display_name": "env",
   "language": "python",
   "name": "python3"
  },
  "language_info": {
   "codemirror_mode": {
    "name": "ipython",
    "version": 3
   },
   "file_extension": ".py",
   "mimetype": "text/x-python",
   "name": "python",
   "nbconvert_exporter": "python",
   "pygments_lexer": "ipython3",
   "version": "3.9.13"
  }
 },
 "nbformat": 4,
 "nbformat_minor": 5
}
